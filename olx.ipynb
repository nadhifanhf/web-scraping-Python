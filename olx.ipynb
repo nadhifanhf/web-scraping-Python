{
 "cells": [
  {
   "cell_type": "code",
   "execution_count": 155,
   "metadata": {},
   "outputs": [],
   "source": [
    "import pandas as pd\n",
    "import requests\n",
    "from bs4 import BeautifulSoup "
   ]
  },
  {
   "cell_type": "code",
   "execution_count": 156,
   "metadata": {},
   "outputs": [],
   "source": [
    "url = 'https://www.olx.co.id/items/q-samsung'"
   ]
  },
  {
   "cell_type": "code",
   "execution_count": 157,
   "metadata": {},
   "outputs": [],
   "source": [
    "res = requests.get(url)\n",
    "res.raise_for_status()"
   ]
  },
  {
   "cell_type": "code",
   "execution_count": 158,
   "metadata": {},
   "outputs": [],
   "source": [
    "soup = BeautifulSoup(res.text, 'html.parser')"
   ]
  },
  {
   "cell_type": "code",
   "execution_count": 159,
   "metadata": {},
   "outputs": [],
   "source": [
    "containers = soup.findAll('li', {'class':'EIR5N'})"
   ]
  },
  {
   "cell_type": "code",
   "execution_count": 160,
   "metadata": {},
   "outputs": [
    {
     "data": {
      "text/plain": [
       "'12000000'"
      ]
     },
     "execution_count": 160,
     "metadata": {},
     "output_type": "execute_result"
    }
   ],
   "source": [
    "harga = containers[0].findAll('span', {'class':'_89yzn'})[0].getText()\n",
    "harga = harga.replace('.','').replace('Rp', '').strip()\n",
    "harga"
   ]
  },
  {
   "cell_type": "code",
   "execution_count": 161,
   "metadata": {},
   "outputs": [],
   "source": [
    "nama = containers[0].findAll('span', {'class':'_2tW1I'})[0].getText().title()"
   ]
  },
  {
   "cell_type": "code",
   "execution_count": 162,
   "metadata": {},
   "outputs": [],
   "source": [
    "list_harga = []\n",
    "list_nama = []\n",
    "\n",
    "for items in containers:\n",
    "    harga = items.findAll('span', {'class':'_89yzn'})[0].getText()\n",
    "    harga = harga.replace('.','').replace('Rp', '').strip()\n",
    "    list_harga.append(harga)\n",
    "    nama = items.findAll('span', {'class':'_2tW1I'})[0].getText().title()\n",
    "    list_nama.append(nama)"
   ]
  },
  {
   "cell_type": "code",
   "execution_count": 163,
   "metadata": {},
   "outputs": [],
   "source": [
    "mydata = pd.DataFrame(\n",
    "    data={'Nama Barang':list_nama, 'Harga':list_harga}\n",
    ")"
   ]
  },
  {
   "cell_type": "code",
   "execution_count": 164,
   "metadata": {},
   "outputs": [
    {
     "data": {
      "text/html": [
       "<div>\n",
       "<style scoped>\n",
       "    .dataframe tbody tr th:only-of-type {\n",
       "        vertical-align: middle;\n",
       "    }\n",
       "\n",
       "    .dataframe tbody tr th {\n",
       "        vertical-align: top;\n",
       "    }\n",
       "\n",
       "    .dataframe thead th {\n",
       "        text-align: right;\n",
       "    }\n",
       "</style>\n",
       "<table border=\"1\" class=\"dataframe\">\n",
       "  <thead>\n",
       "    <tr style=\"text-align: right;\">\n",
       "      <th></th>\n",
       "      <th>Nama Barang</th>\n",
       "      <th>Harga</th>\n",
       "    </tr>\n",
       "  </thead>\n",
       "  <tbody>\n",
       "    <tr>\n",
       "      <th>0</th>\n",
       "      <td>Specialist Beli Hp Iphone 11 Pro Max Xs Samsun...</td>\n",
       "      <td>12000000</td>\n",
       "    </tr>\n",
       "    <tr>\n",
       "      <th>1</th>\n",
       "      <td>Beli Cpt Harga Tinggi Iphone 11 Pro Max Samsun...</td>\n",
       "      <td>16550000</td>\n",
       "    </tr>\n",
       "    <tr>\n",
       "      <th>2</th>\n",
       "      <td>Hp Baru Samsung Lipat Gt-C3592 Dual Sim</td>\n",
       "      <td>350000</td>\n",
       "    </tr>\n",
       "    <tr>\n",
       "      <th>3</th>\n",
       "      <td>Samsung Note 10 Plus 512Gb Aura Glow Super Mul...</td>\n",
       "      <td>12600000</td>\n",
       "    </tr>\n",
       "    <tr>\n",
       "      <th>4</th>\n",
       "      <td>Samsung A3 2016</td>\n",
       "      <td>250000</td>\n",
       "    </tr>\n",
       "    <tr>\n",
       "      <th>5</th>\n",
       "      <td>Samsung Tab A8 Pen 8Inci Grey 4G Ram2/16Gb Apa...</td>\n",
       "      <td>1200000</td>\n",
       "    </tr>\n",
       "    <tr>\n",
       "      <th>6</th>\n",
       "      <td>Samsung Galaxy M11 3/32Gb  # Promo</td>\n",
       "      <td>2049000</td>\n",
       "    </tr>\n",
       "    <tr>\n",
       "      <th>7</th>\n",
       "      <td>Baterai Samsung Original Ace 3/Samsung V Termurah</td>\n",
       "      <td>80000</td>\n",
       "    </tr>\n",
       "    <tr>\n",
       "      <th>8</th>\n",
       "      <td>Baterai Samsung Original Mega 6.3 Termurah</td>\n",
       "      <td>90000</td>\n",
       "    </tr>\n",
       "    <tr>\n",
       "      <th>9</th>\n",
       "      <td>Samsung A8 2018 Gold</td>\n",
       "      <td>2600000</td>\n",
       "    </tr>\n",
       "    <tr>\n",
       "      <th>10</th>\n",
       "      <td>Baterai Samsung Original J1 2016/J120 Termurah</td>\n",
       "      <td>80000</td>\n",
       "    </tr>\n",
       "    <tr>\n",
       "      <th>11</th>\n",
       "      <td>Samsung Galaxy A51 6/128Gb  # Promo</td>\n",
       "      <td>4499000</td>\n",
       "    </tr>\n",
       "    <tr>\n",
       "      <th>12</th>\n",
       "      <td>Samsung E5 Minus Layar Lcd Harus Ganti</td>\n",
       "      <td>275000</td>\n",
       "    </tr>\n",
       "    <tr>\n",
       "      <th>13</th>\n",
       "      <td>Baterai Samsung Original J1 Mini Termurah</td>\n",
       "      <td>80000</td>\n",
       "    </tr>\n",
       "    <tr>\n",
       "      <th>14</th>\n",
       "      <td>Hardcase Spigen Samsung Galaxy S8 Plus</td>\n",
       "      <td>40000</td>\n",
       "    </tr>\n",
       "    <tr>\n",
       "      <th>15</th>\n",
       "      <td>Hp Samsung A30S  Ram 4/64</td>\n",
       "      <td>2300000</td>\n",
       "    </tr>\n",
       "    <tr>\n",
       "      <th>16</th>\n",
       "      <td>Gamers A6 Laptop Samsung Type Np355V4X Amd A6-...</td>\n",
       "      <td>2000000</td>\n",
       "    </tr>\n",
       "    <tr>\n",
       "      <th>17</th>\n",
       "      <td>Samsung A01 Ram 2/16Gb Hanny Cell Palembang</td>\n",
       "      <td>1470000</td>\n",
       "    </tr>\n",
       "    <tr>\n",
       "      <th>18</th>\n",
       "      <td>Ipad Mini 1 16 Gb Bundling Dengan Samsung Tab ...</td>\n",
       "      <td>1199000</td>\n",
       "    </tr>\n",
       "    <tr>\n",
       "      <th>19</th>\n",
       "      <td>Samsung Galaxy A51</td>\n",
       "      <td>4450000</td>\n",
       "    </tr>\n",
       "  </tbody>\n",
       "</table>\n",
       "</div>"
      ],
      "text/plain": [
       "                                          Nama Barang     Harga\n",
       "0   Specialist Beli Hp Iphone 11 Pro Max Xs Samsun...  12000000\n",
       "1   Beli Cpt Harga Tinggi Iphone 11 Pro Max Samsun...  16550000\n",
       "2             Hp Baru Samsung Lipat Gt-C3592 Dual Sim    350000\n",
       "3   Samsung Note 10 Plus 512Gb Aura Glow Super Mul...  12600000\n",
       "4                                     Samsung A3 2016    250000\n",
       "5   Samsung Tab A8 Pen 8Inci Grey 4G Ram2/16Gb Apa...   1200000\n",
       "6                  Samsung Galaxy M11 3/32Gb  # Promo   2049000\n",
       "7   Baterai Samsung Original Ace 3/Samsung V Termurah     80000\n",
       "8          Baterai Samsung Original Mega 6.3 Termurah     90000\n",
       "9                                Samsung A8 2018 Gold   2600000\n",
       "10     Baterai Samsung Original J1 2016/J120 Termurah     80000\n",
       "11                Samsung Galaxy A51 6/128Gb  # Promo   4499000\n",
       "12             Samsung E5 Minus Layar Lcd Harus Ganti    275000\n",
       "13          Baterai Samsung Original J1 Mini Termurah     80000\n",
       "14             Hardcase Spigen Samsung Galaxy S8 Plus     40000\n",
       "15                          Hp Samsung A30S  Ram 4/64   2300000\n",
       "16  Gamers A6 Laptop Samsung Type Np355V4X Amd A6-...   2000000\n",
       "17        Samsung A01 Ram 2/16Gb Hanny Cell Palembang   1470000\n",
       "18  Ipad Mini 1 16 Gb Bundling Dengan Samsung Tab ...   1199000\n",
       "19                                 Samsung Galaxy A51   4450000"
      ]
     },
     "execution_count": 164,
     "metadata": {},
     "output_type": "execute_result"
    }
   ],
   "source": [
    "mydata"
   ]
  }
 ],
 "metadata": {
  "kernelspec": {
   "display_name": "Python 3",
   "language": "python",
   "name": "python3"
  },
  "language_info": {
   "codemirror_mode": {
    "name": "ipython",
    "version": 3
   },
   "file_extension": ".py",
   "mimetype": "text/x-python",
   "name": "python",
   "nbconvert_exporter": "python",
   "pygments_lexer": "ipython3",
   "version": "3.7.3"
  }
 },
 "nbformat": 4,
 "nbformat_minor": 2
}
